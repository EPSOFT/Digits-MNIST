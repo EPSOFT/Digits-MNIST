{
 "cells": [
  {
   "attachments": {},
   "cell_type": "markdown",
   "id": "08685b08",
   "metadata": {},
   "source": [
    "<font size=\"1\">  \n",
    "<h1>Subject: Home Work 2<h1>\n",
    "    <p>Shahrood University of Technology (SUT)<p>\n",
    "    <p> Artificial Intelligence</p>\n",
    "    <p> Student Number: 40103834 </p>\n",
    "    <p style=\"color:yellow;\">Author: Ehsan Paydar</p> \n",
    "    </font>  "
   ]
  },
  {
   "attachments": {},
   "cell_type": "markdown",
   "id": "7777b2cf",
   "metadata": {},
   "source": [
    "<h1 style=\"color:#a21441;\">import library</h1>\n"
   ]
  },
  {
   "cell_type": "code",
   "execution_count": 3,
   "id": "41180759",
   "metadata": {},
   "outputs": [],
   "source": [
    "from sklearn.datasets import fetch_openml \n",
    "import numpy as np \n",
    "from sklearn.preprocessing import StandardScaler \n",
    "from sklearn.model_selection import train_test_split, GridSearchCV \n",
    "from sklearn.neural_network import MLPClassifier \n",
    "import matplotlib.pyplot as plt "
   ]
  },
  {
   "attachments": {},
   "cell_type": "markdown",
   "id": "18883151",
   "metadata": {},
   "source": [
    "<h1 style=\"color:#a21441;\">Load the data from the MNIST dataset </h1>"
   ]
  },
  {
   "cell_type": "code",
   "execution_count": 5,
   "id": "694e78d1",
   "metadata": {},
   "outputs": [],
   "source": [
    "X, y = fetch_openml('mnist_784', version=1, return_X_y=True , parser='auto') \n"
   ]
  },
  {
   "attachments": {},
   "cell_type": "markdown",
   "id": "f29a07d9",
   "metadata": {},
   "source": [
    "<h1 style=\"color:#a21441;\">Split the data into training and testing datasets  </h1>"
   ]
  },
  {
   "cell_type": "code",
   "execution_count": 8,
   "id": "27452d15",
   "metadata": {},
   "outputs": [],
   "source": [
    "\n",
    "x_train, x_test, y_train, y_test = train_test_split(X, y, test_size = 0.3, random_state = 42) "
   ]
  },
  {
   "attachments": {},
   "cell_type": "markdown",
   "id": "4ad794a3",
   "metadata": {},
   "source": [
    "<h1 style=\"color:#a21441;\"> Scale the data so that it has zero mean and unit variance </h1>\n"
   ]
  },
  {
   "cell_type": "code",
   "execution_count": 9,
   "id": "be859ae7",
   "metadata": {},
   "outputs": [],
   "source": [
    "scaler = StandardScaler() \n",
    "x_train_scaled = scaler.fit_transform(x_train) \n",
    "x_test_scaled = scaler.fit_transform(x_test) \n"
   ]
  },
  {
   "attachments": {},
   "cell_type": "markdown",
   "id": "e2c18821",
   "metadata": {},
   "source": [
    "<h1 style=\"color:#a21441;\"> Create a Multi Layer Perceptron neural network classifier </h1>\n"
   ]
  },
  {
   "cell_type": "code",
   "execution_count": 10,
   "id": "5818ff3b",
   "metadata": {},
   "outputs": [],
   "source": [
    "mlp_clf = MLPClassifier(random_state=0) "
   ]
  },
  {
   "attachments": {},
   "cell_type": "markdown",
   "id": "d920ad26",
   "metadata": {},
   "source": [
    "<h1 style=\"color:#a21441;\"> Define parameters to search for in grid search </h1>\n"
   ]
  },
  {
   "cell_type": "code",
   "execution_count": 11,
   "id": "f5fd848e",
   "metadata": {},
   "outputs": [],
   "source": [
    "parameters = { \n",
    "\t'hidden_layer_sizes': [(50,50,50), (100,100,100), (150,150,150)], \n",
    "\t'activation': ['logistic'], \n",
    "\t'solver': ['sgd'], \n",
    "\t'learning_rate': ['constant'], \n",
    "\t'learning_rate_init': [0.1], \n",
    "\t'max_iter':[1000] \n",
    " }\n"
   ]
  },
  {
   "attachments": {},
   "cell_type": "markdown",
   "id": "048173fb",
   "metadata": {},
   "source": [
    "<h1 style=\"color:#a21441;\"> Create a GridSearchCV object using 5-fold cross validation </h1>\n"
   ]
  },
  {
   "cell_type": "code",
   "execution_count": 12,
   "id": "cd06f038",
   "metadata": {},
   "outputs": [],
   "source": [
    "grid_search = GridSearchCV(mlp_clf, param_grid=parameters, cv=5,verbose=1) "
   ]
  },
  {
   "attachments": {},
   "cell_type": "markdown",
   "id": "412767a6",
   "metadata": {},
   "source": [
    "<h1 style=\"color:#a21441;\"> Fit the model to the training data </h1>\n"
   ]
  },
  {
   "cell_type": "code",
   "execution_count": 13,
   "id": "1a74a001",
   "metadata": {},
   "outputs": [
    {
     "name": "stdout",
     "output_type": "stream",
     "text": [
      "Fitting 5 folds for each of 3 candidates, totalling 15 fits\n"
     ]
    },
    {
     "data": {
      "text/html": [
       "<style>#sk-container-id-1 {color: black;background-color: white;}#sk-container-id-1 pre{padding: 0;}#sk-container-id-1 div.sk-toggleable {background-color: white;}#sk-container-id-1 label.sk-toggleable__label {cursor: pointer;display: block;width: 100%;margin-bottom: 0;padding: 0.3em;box-sizing: border-box;text-align: center;}#sk-container-id-1 label.sk-toggleable__label-arrow:before {content: \"▸\";float: left;margin-right: 0.25em;color: #696969;}#sk-container-id-1 label.sk-toggleable__label-arrow:hover:before {color: black;}#sk-container-id-1 div.sk-estimator:hover label.sk-toggleable__label-arrow:before {color: black;}#sk-container-id-1 div.sk-toggleable__content {max-height: 0;max-width: 0;overflow: hidden;text-align: left;background-color: #f0f8ff;}#sk-container-id-1 div.sk-toggleable__content pre {margin: 0.2em;color: black;border-radius: 0.25em;background-color: #f0f8ff;}#sk-container-id-1 input.sk-toggleable__control:checked~div.sk-toggleable__content {max-height: 200px;max-width: 100%;overflow: auto;}#sk-container-id-1 input.sk-toggleable__control:checked~label.sk-toggleable__label-arrow:before {content: \"▾\";}#sk-container-id-1 div.sk-estimator input.sk-toggleable__control:checked~label.sk-toggleable__label {background-color: #d4ebff;}#sk-container-id-1 div.sk-label input.sk-toggleable__control:checked~label.sk-toggleable__label {background-color: #d4ebff;}#sk-container-id-1 input.sk-hidden--visually {border: 0;clip: rect(1px 1px 1px 1px);clip: rect(1px, 1px, 1px, 1px);height: 1px;margin: -1px;overflow: hidden;padding: 0;position: absolute;width: 1px;}#sk-container-id-1 div.sk-estimator {font-family: monospace;background-color: #f0f8ff;border: 1px dotted black;border-radius: 0.25em;box-sizing: border-box;margin-bottom: 0.5em;}#sk-container-id-1 div.sk-estimator:hover {background-color: #d4ebff;}#sk-container-id-1 div.sk-parallel-item::after {content: \"\";width: 100%;border-bottom: 1px solid gray;flex-grow: 1;}#sk-container-id-1 div.sk-label:hover label.sk-toggleable__label {background-color: #d4ebff;}#sk-container-id-1 div.sk-serial::before {content: \"\";position: absolute;border-left: 1px solid gray;box-sizing: border-box;top: 0;bottom: 0;left: 50%;z-index: 0;}#sk-container-id-1 div.sk-serial {display: flex;flex-direction: column;align-items: center;background-color: white;padding-right: 0.2em;padding-left: 0.2em;position: relative;}#sk-container-id-1 div.sk-item {position: relative;z-index: 1;}#sk-container-id-1 div.sk-parallel {display: flex;align-items: stretch;justify-content: center;background-color: white;position: relative;}#sk-container-id-1 div.sk-item::before, #sk-container-id-1 div.sk-parallel-item::before {content: \"\";position: absolute;border-left: 1px solid gray;box-sizing: border-box;top: 0;bottom: 0;left: 50%;z-index: -1;}#sk-container-id-1 div.sk-parallel-item {display: flex;flex-direction: column;z-index: 1;position: relative;background-color: white;}#sk-container-id-1 div.sk-parallel-item:first-child::after {align-self: flex-end;width: 50%;}#sk-container-id-1 div.sk-parallel-item:last-child::after {align-self: flex-start;width: 50%;}#sk-container-id-1 div.sk-parallel-item:only-child::after {width: 0;}#sk-container-id-1 div.sk-dashed-wrapped {border: 1px dashed gray;margin: 0 0.4em 0.5em 0.4em;box-sizing: border-box;padding-bottom: 0.4em;background-color: white;}#sk-container-id-1 div.sk-label label {font-family: monospace;font-weight: bold;display: inline-block;line-height: 1.2em;}#sk-container-id-1 div.sk-label-container {text-align: center;}#sk-container-id-1 div.sk-container {/* jupyter's `normalize.less` sets `[hidden] { display: none; }` but bootstrap.min.css set `[hidden] { display: none !important; }` so we also need the `!important` here to be able to override the default hidden behavior on the sphinx rendered scikit-learn.org. See: https://github.com/scikit-learn/scikit-learn/issues/21755 */display: inline-block !important;position: relative;}#sk-container-id-1 div.sk-text-repr-fallback {display: none;}</style><div id=\"sk-container-id-1\" class=\"sk-top-container\"><div class=\"sk-text-repr-fallback\"><pre>GridSearchCV(cv=5, estimator=MLPClassifier(random_state=0),\n",
       "             param_grid={&#x27;activation&#x27;: [&#x27;logistic&#x27;],\n",
       "                         &#x27;hidden_layer_sizes&#x27;: [(50, 50, 50), (100, 100, 100),\n",
       "                                                (150, 150, 150)],\n",
       "                         &#x27;learning_rate&#x27;: [&#x27;constant&#x27;],\n",
       "                         &#x27;learning_rate_init&#x27;: [0.1], &#x27;max_iter&#x27;: [1000],\n",
       "                         &#x27;solver&#x27;: [&#x27;sgd&#x27;]},\n",
       "             verbose=1)</pre><b>In a Jupyter environment, please rerun this cell to show the HTML representation or trust the notebook. <br />On GitHub, the HTML representation is unable to render, please try loading this page with nbviewer.org.</b></div><div class=\"sk-container\" hidden><div class=\"sk-item sk-dashed-wrapped\"><div class=\"sk-label-container\"><div class=\"sk-label sk-toggleable\"><input class=\"sk-toggleable__control sk-hidden--visually\" id=\"sk-estimator-id-1\" type=\"checkbox\" ><label for=\"sk-estimator-id-1\" class=\"sk-toggleable__label sk-toggleable__label-arrow\">GridSearchCV</label><div class=\"sk-toggleable__content\"><pre>GridSearchCV(cv=5, estimator=MLPClassifier(random_state=0),\n",
       "             param_grid={&#x27;activation&#x27;: [&#x27;logistic&#x27;],\n",
       "                         &#x27;hidden_layer_sizes&#x27;: [(50, 50, 50), (100, 100, 100),\n",
       "                                                (150, 150, 150)],\n",
       "                         &#x27;learning_rate&#x27;: [&#x27;constant&#x27;],\n",
       "                         &#x27;learning_rate_init&#x27;: [0.1], &#x27;max_iter&#x27;: [1000],\n",
       "                         &#x27;solver&#x27;: [&#x27;sgd&#x27;]},\n",
       "             verbose=1)</pre></div></div></div><div class=\"sk-parallel\"><div class=\"sk-parallel-item\"><div class=\"sk-item\"><div class=\"sk-label-container\"><div class=\"sk-label sk-toggleable\"><input class=\"sk-toggleable__control sk-hidden--visually\" id=\"sk-estimator-id-2\" type=\"checkbox\" ><label for=\"sk-estimator-id-2\" class=\"sk-toggleable__label sk-toggleable__label-arrow\">estimator: MLPClassifier</label><div class=\"sk-toggleable__content\"><pre>MLPClassifier(random_state=0)</pre></div></div></div><div class=\"sk-serial\"><div class=\"sk-item\"><div class=\"sk-estimator sk-toggleable\"><input class=\"sk-toggleable__control sk-hidden--visually\" id=\"sk-estimator-id-3\" type=\"checkbox\" ><label for=\"sk-estimator-id-3\" class=\"sk-toggleable__label sk-toggleable__label-arrow\">MLPClassifier</label><div class=\"sk-toggleable__content\"><pre>MLPClassifier(random_state=0)</pre></div></div></div></div></div></div></div></div></div></div>"
      ],
      "text/plain": [
       "GridSearchCV(cv=5, estimator=MLPClassifier(random_state=0),\n",
       "             param_grid={'activation': ['logistic'],\n",
       "                         'hidden_layer_sizes': [(50, 50, 50), (100, 100, 100),\n",
       "                                                (150, 150, 150)],\n",
       "                         'learning_rate': ['constant'],\n",
       "                         'learning_rate_init': [0.1], 'max_iter': [1000],\n",
       "                         'solver': ['sgd']},\n",
       "             verbose=1)"
      ]
     },
     "execution_count": 13,
     "metadata": {},
     "output_type": "execute_result"
    }
   ],
   "source": [
    "grid_search.fit(x_train_scaled, y_train) \n"
   ]
  },
  {
   "attachments": {},
   "cell_type": "markdown",
   "id": "98c8677f",
   "metadata": {},
   "source": [
    "<h1 style=\"color:#a21441;\"> Plot the training errors with different numbers of hidden layers </h1>\n"
   ]
  },
  {
   "cell_type": "code",
   "execution_count": 14,
   "id": "d73d4625",
   "metadata": {},
   "outputs": [
    {
     "data": {
      "image/png": "[encoded data removed]",
      "text/plain": [
       "<Figure size 640x480 with 1 Axes>"
      ]
     },
     "metadata": {},
     "output_type": "display_data"
    }
   ],
   "source": [
    "training_scores = []\n",
    "testing_scores = []\n",
    "hidden_layers = [50, 100, 150]\n",
    "for i in hidden_layers: \n",
    "\tparams = {'hidden_layer_sizes':(i,i,i)} \n",
    "\tmlp_clf.set_params(**params) \n",
    "\tmlp_clf.fit(x_train_scaled, y_train) \n",
    "\ttraining_score = mlp_clf.score(x_train_scaled, y_train) \n",
    "\ttesting_score = mlp_clf.score(x_test_scaled, y_test) \n",
    "\ttraining_scores.append(training_score) \n",
    "\ttesting_scores.append(testing_score) \n",
    "\t\n",
    "plt.plot(hidden_layers, training_scores, color='blue', label='Training score') \n",
    "plt.plot(hidden_layers, testing_scores, color='red', label='Testing score') \n",
    "plt.legend(loc=4) \n",
    "plt.show()"
   ]
  },
  {
   "attachments": {},
   "cell_type": "markdown",
   "id": "37ac413c",
   "metadata": {},
   "source": [
    "<h1 style=\"color:#a21441;\"> Drawing a diagram of the convergence process of the model (changes in the training error during successive iterations of the algorithm) </h1>\n"
   ]
  },
  {
   "cell_type": "code",
   "execution_count": 15,
   "id": "84e3e366",
   "metadata": {},
   "outputs": [
    {
     "data": {
      "image/png": "[encoded data removed]",
      "text/plain": [
       "<Figure size 640x480 with 1 Axes>"
      ]
     },
     "metadata": {},
     "output_type": "display_data"
    }
   ],
   "source": [
    "train_errors = mlp_clf.loss_curve_\n",
    "plt.plot(train_errors)\n",
    "plt.show()"
   ]
  }
 ],
 "metadata": {
  "kernelspec": {
   "display_name": "Python 3 (ipykernel)",
   "language": "python",
   "name": "python3"
  },
  "language_info": {
   "codemirror_mode": {
    "name": "ipython",
    "version": 3
   },
   "file_extension": ".py",
   "mimetype": "text/x-python",
   "name": "python",
   "nbconvert_exporter": "python",
   "pygments_lexer": "ipython3",
   "version": "3.9.13"
  }
 },
 "nbformat": 4,
 "nbformat_minor": 5
}
